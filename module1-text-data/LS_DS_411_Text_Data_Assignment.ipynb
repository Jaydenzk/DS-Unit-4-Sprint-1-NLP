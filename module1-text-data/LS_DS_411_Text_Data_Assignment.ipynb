{
  "nbformat": 4,
  "nbformat_minor": 0,
  "metadata": {
    "colab": {
      "name": "LS_DS_421_Text_Data_Assignment.ipynb",
      "provenance": [],
      "collapsed_sections": [],
      "include_colab_link": true
    },
    "kernelspec": {
      "display_name": "U4-S1-NLP (Python 3)",
      "language": "python",
      "name": "u4-s1-nlp"
    },
    "language_info": {
      "codemirror_mode": {
        "name": "ipython",
        "version": 3
      },
      "file_extension": ".py",
      "mimetype": "text/x-python",
      "name": "python",
      "nbconvert_exporter": "python",
      "pygments_lexer": "ipython3",
      "version": "3.7.3"
    },
    "toc-autonumbering": false
  },
  "cells": [
    {
      "cell_type": "markdown",
      "metadata": {
        "id": "view-in-github",
        "colab_type": "text"
      },
      "source": [
        "<a href=\"https://colab.research.google.com/github/Jaydenzk/DS-Unit-4-Sprint-1-NLP/blob/master/module1-text-data/LS_DS_411_Text_Data_Assignment.ipynb\" target=\"_parent\"><img src=\"https://colab.research.google.com/assets/colab-badge.svg\" alt=\"Open In Colab\"/></a>"
      ]
    },
    {
      "cell_type": "markdown",
      "metadata": {
        "id": "nAazBzGYSW1P",
        "colab_type": "text"
      },
      "source": [
        "<img align=\"left\" src=\"https://lever-client-logos.s3.amazonaws.com/864372b1-534c-480e-acd5-9711f850815c-1524247202159.png\" width=200>\n",
        "<br></br>\n",
        "<br></br>\n",
        "\n",
        "# Natural Language Processing (NLP)\n",
        "## *Data Science Unit 4 Sprint 1 Assignment 1*\n",
        "\n",
        "Your goal in assignment: find the attributes of the best & worst coffee shops in the dataset. The text is fairly raw: dates in the review, extra words in the `star_rating` column, etc. You'll probably want to clean that stuff up for a better analysis. \n",
        "\n",
        "Analyze the corpus of text using text visualizations of token frequency. Try cleaning the data as much as possible. Try the following techniques: \n",
        "- Lemmatization\n",
        "- Custom stopword removal\n",
        "\n",
        "Keep in mind the attributes of good tokens. Once you have a solid baseline, layer in the star rating in your visualization(s). Keep part in this assignment - produce a write-up of the attributes of the best and worst coffee shops. Based on your analysis, what makes the best the best and the worst the worst. Use graphs and numbesr from your analysis to support your conclusions. There should be plenty of markdown cells! :coffee:"
      ]
    },
    {
      "cell_type": "code",
      "metadata": {
        "id": "yoIWOg0qSW1R",
        "colab_type": "code",
        "colab": {},
        "outputId": "a12d4e80-7c9a-46e6-bcb4-e858d3c36bde"
      },
      "source": [
        "from IPython.display import YouTubeVideo\n",
        "\n",
        "YouTubeVideo('Jml7NVYm8cs')"
      ],
      "execution_count": 0,
      "outputs": [
        {
          "output_type": "execute_result",
          "data": {
            "image/jpeg": "[encoded data removed]",
            "text/html": [
              "\n",
              "        <iframe\n",
              "            width=\"400\"\n",
              "            height=\"300\"\n",
              "            src=\"https://www.youtube.com/embed/Jml7NVYm8cs\"\n",
              "            frameborder=\"0\"\n",
              "            allowfullscreen\n",
              "        ></iframe>\n",
              "        "
            ],
            "text/plain": [
              "<IPython.lib.display.YouTubeVideo at 0x1243479e8>"
            ]
          },
          "metadata": {
            "tags": []
          },
          "execution_count": 5
        }
      ]
    },
    {
      "cell_type": "code",
      "metadata": {
        "id": "RwvAZz4NSW1V",
        "colab_type": "code",
        "colab": {},
        "outputId": "9dd94c68-7546-4a51-f7ac-964a1a8b281f"
      },
      "source": [
        "%pwd"
      ],
      "execution_count": 0,
      "outputs": [
        {
          "output_type": "execute_result",
          "data": {
            "text/plain": [
              "'/Users/jonathansokoll/Documents/lambda/DS-Unit-4-Sprint-1-NLP/module1-text-data'"
            ]
          },
          "metadata": {
            "tags": []
          },
          "execution_count": 2
        }
      ]
    },
    {
      "cell_type": "code",
      "metadata": {
        "id": "M6qigUoefD5o",
        "colab_type": "code",
        "colab": {
          "base_uri": "https://localhost:8080/",
          "height": 89
        },
        "outputId": "e08de84a-5404-4749-fc4e-65942418bda8"
      },
      "source": [
        "!pip install squarify"
      ],
      "execution_count": 13,
      "outputs": [
        {
          "output_type": "stream",
          "text": [
            "Collecting squarify\n",
            "  Downloading https://files.pythonhosted.org/packages/0b/2b/2e77c35326efec19819cd1d729540d4d235e6c2a3f37658288a363a67da5/squarify-0.4.3-py3-none-any.whl\n",
            "Installing collected packages: squarify\n",
            "Successfully installed squarify-0.4.3\n"
          ],
          "name": "stdout"
        }
      ]
    },
    {
      "cell_type": "code",
      "metadata": {
        "id": "ndKPsESwfAcp",
        "colab_type": "code",
        "colab": {}
      },
      "source": [
        "# Base\n",
        "from collections import Counter\n",
        "import re\n",
        " \n",
        "import pandas as pd\n",
        "\n",
        "# Plotting\n",
        "import squarify\n",
        "import matplotlib.pyplot as plt\n",
        "import seaborn as sns\n",
        "\n",
        "# NLP Libraries\n",
        "import spacy\n",
        "from spacy.tokenizer import Tokenizer\n",
        "from nltk.stem import PorterStemmer"
      ],
      "execution_count": 0,
      "outputs": []
    },
    {
      "cell_type": "code",
      "metadata": {
        "id": "JkndIWScSW1X",
        "colab_type": "code",
        "colab": {
          "base_uri": "https://localhost:8080/",
          "height": 204
        },
        "outputId": "e94c0924-6aff-4b9a-98f6-7b369c3a42c4"
      },
      "source": [
        "import pandas as pd\n",
        "\n",
        "url = \"https://raw.githubusercontent.com/LambdaSchool/DS-Unit-4-Sprint-1-NLP/master/module1-text-data/data/yelp_coffeeshop_review_data.csv\"\n",
        "\n",
        "shops = pd.read_csv(url)\n",
        "shops.head()"
      ],
      "execution_count": 1,
      "outputs": [
        {
          "output_type": "execute_result",
          "data": {
            "text/html": [
              "<div>\n",
              "<style scoped>\n",
              "    .dataframe tbody tr th:only-of-type {\n",
              "        vertical-align: middle;\n",
              "    }\n",
              "\n",
              "    .dataframe tbody tr th {\n",
              "        vertical-align: top;\n",
              "    }\n",
              "\n",
              "    .dataframe thead th {\n",
              "        text-align: right;\n",
              "    }\n",
              "</style>\n",
              "<table border=\"1\" class=\"dataframe\">\n",
              "  <thead>\n",
              "    <tr style=\"text-align: right;\">\n",
              "      <th></th>\n",
              "      <th>coffee_shop_name</th>\n",
              "      <th>full_review_text</th>\n",
              "      <th>star_rating</th>\n",
              "    </tr>\n",
              "  </thead>\n",
              "  <tbody>\n",
              "    <tr>\n",
              "      <th>0</th>\n",
              "      <td>The Factory - Cafe With a Soul</td>\n",
              "      <td>11/25/2016 1 check-in Love love loved the atm...</td>\n",
              "      <td>5.0 star rating</td>\n",
              "    </tr>\n",
              "    <tr>\n",
              "      <th>1</th>\n",
              "      <td>The Factory - Cafe With a Soul</td>\n",
              "      <td>12/2/2016 Listed in Date Night: Austin, Ambia...</td>\n",
              "      <td>4.0 star rating</td>\n",
              "    </tr>\n",
              "    <tr>\n",
              "      <th>2</th>\n",
              "      <td>The Factory - Cafe With a Soul</td>\n",
              "      <td>11/30/2016 1 check-in Listed in Brunch Spots ...</td>\n",
              "      <td>4.0 star rating</td>\n",
              "    </tr>\n",
              "    <tr>\n",
              "      <th>3</th>\n",
              "      <td>The Factory - Cafe With a Soul</td>\n",
              "      <td>11/25/2016 Very cool decor! Good drinks Nice ...</td>\n",
              "      <td>2.0 star rating</td>\n",
              "    </tr>\n",
              "    <tr>\n",
              "      <th>4</th>\n",
              "      <td>The Factory - Cafe With a Soul</td>\n",
              "      <td>12/3/2016 1 check-in They are located within ...</td>\n",
              "      <td>4.0 star rating</td>\n",
              "    </tr>\n",
              "  </tbody>\n",
              "</table>\n",
              "</div>"
            ],
            "text/plain": [
              "                  coffee_shop_name  ...        star_rating\n",
              "0  The Factory - Cafe With a Soul   ...   5.0 star rating \n",
              "1  The Factory - Cafe With a Soul   ...   4.0 star rating \n",
              "2  The Factory - Cafe With a Soul   ...   4.0 star rating \n",
              "3  The Factory - Cafe With a Soul   ...   2.0 star rating \n",
              "4  The Factory - Cafe With a Soul   ...   4.0 star rating \n",
              "\n",
              "[5 rows x 3 columns]"
            ]
          },
          "metadata": {
            "tags": []
          },
          "execution_count": 1
        }
      ]
    },
    {
      "cell_type": "code",
      "metadata": {
        "id": "mWZjW5keSW1Z",
        "colab_type": "code",
        "colab": {}
      },
      "source": [
        "# Start here \n",
        "\n",
        "def wrangle(df):\n",
        "    df = df.copy()\n",
        "    \n",
        "    df['star_rating'] = df['star_rating'].str.replace('star rating', '').astype(float)\n",
        "    \n",
        "    df['date'] = df['full_review_text'].str.extract(r\"(\\d{1,2}[/. ](?:\\d{1,2}|January|Jan)[/. ]\\d{2}(?:\\d{2})?)\")\n",
        "    df['date'] = pd.to_datetime(df['date'])\n",
        "    \n",
        "    df['full_review_text'] = df['full_review_text'].str.replace('(\\d{1,2}[/. ](?:\\d{1,2}|January|Jan)[/. ]\\d{2}(?:\\d{2})?)', '')\n",
        "    df['full_review_text'] = df['full_review_text'].str.replace('(\\d*)', '').str.strip().str.lstrip('check-in ')\n",
        "    df['full_review_text'] = df['full_review_text'].apply(lambda x: x.lower())\n",
        "    \n",
        "    df['coffee_shop_name'] = df['coffee_shop_name'].str.strip()\n",
        "    \n",
        "    df['positive_review'] = df['star_rating'] >= 3.0\n",
        "    \n",
        "    return df"
      ],
      "execution_count": 0,
      "outputs": []
    },
    {
      "cell_type": "code",
      "metadata": {
        "id": "NETQUvYHek6E",
        "colab_type": "code",
        "colab": {
          "base_uri": "https://localhost:8080/",
          "height": 204
        },
        "outputId": "0bb08a81-71ba-4e94-c50b-c63a491fb4dc"
      },
      "source": [
        "df = wrangle(shops)\n",
        "df.head()"
      ],
      "execution_count": 3,
      "outputs": [
        {
          "output_type": "execute_result",
          "data": {
            "text/html": [
              "<div>\n",
              "<style scoped>\n",
              "    .dataframe tbody tr th:only-of-type {\n",
              "        vertical-align: middle;\n",
              "    }\n",
              "\n",
              "    .dataframe tbody tr th {\n",
              "        vertical-align: top;\n",
              "    }\n",
              "\n",
              "    .dataframe thead th {\n",
              "        text-align: right;\n",
              "    }\n",
              "</style>\n",
              "<table border=\"1\" class=\"dataframe\">\n",
              "  <thead>\n",
              "    <tr style=\"text-align: right;\">\n",
              "      <th></th>\n",
              "      <th>coffee_shop_name</th>\n",
              "      <th>full_review_text</th>\n",
              "      <th>star_rating</th>\n",
              "      <th>date</th>\n",
              "      <th>positive_review</th>\n",
              "    </tr>\n",
              "  </thead>\n",
              "  <tbody>\n",
              "    <tr>\n",
              "      <th>0</th>\n",
              "      <td>The Factory - Cafe With a Soul</td>\n",
              "      <td>love love loved the atmosphere! every corner o...</td>\n",
              "      <td>5.0</td>\n",
              "      <td>2016-11-25</td>\n",
              "      <td>True</td>\n",
              "    </tr>\n",
              "    <tr>\n",
              "      <th>1</th>\n",
              "      <td>The Factory - Cafe With a Soul</td>\n",
              "      <td>listed in date night: austin, ambiance in aust...</td>\n",
              "      <td>4.0</td>\n",
              "      <td>2016-12-02</td>\n",
              "      <td>True</td>\n",
              "    </tr>\n",
              "    <tr>\n",
              "      <th>2</th>\n",
              "      <td>The Factory - Cafe With a Soul</td>\n",
              "      <td>listed in brunch spots i loved the eclectic an...</td>\n",
              "      <td>4.0</td>\n",
              "      <td>2016-11-30</td>\n",
              "      <td>True</td>\n",
              "    </tr>\n",
              "    <tr>\n",
              "      <th>3</th>\n",
              "      <td>The Factory - Cafe With a Soul</td>\n",
              "      <td>very cool decor! good drinks nice seating  how...</td>\n",
              "      <td>2.0</td>\n",
              "      <td>2016-11-25</td>\n",
              "      <td>False</td>\n",
              "    </tr>\n",
              "    <tr>\n",
              "      <th>4</th>\n",
              "      <td>The Factory - Cafe With a Soul</td>\n",
              "      <td>they are located within the northcross mall sh...</td>\n",
              "      <td>4.0</td>\n",
              "      <td>2016-12-03</td>\n",
              "      <td>True</td>\n",
              "    </tr>\n",
              "  </tbody>\n",
              "</table>\n",
              "</div>"
            ],
            "text/plain": [
              "                 coffee_shop_name  ... positive_review\n",
              "0  The Factory - Cafe With a Soul  ...            True\n",
              "1  The Factory - Cafe With a Soul  ...            True\n",
              "2  The Factory - Cafe With a Soul  ...            True\n",
              "3  The Factory - Cafe With a Soul  ...           False\n",
              "4  The Factory - Cafe With a Soul  ...            True\n",
              "\n",
              "[5 rows x 5 columns]"
            ]
          },
          "metadata": {
            "tags": []
          },
          "execution_count": 3
        }
      ]
    },
    {
      "cell_type": "code",
      "metadata": {
        "id": "pSKsAdBHhDjx",
        "colab_type": "code",
        "colab": {
          "base_uri": "https://localhost:8080/",
          "height": 1000
        },
        "outputId": "c0524429-d697-47ea-a355-fcc2001263e2"
      },
      "source": [
        "df['coffee_shop_name'].value_counts()"
      ],
      "execution_count": 4,
      "outputs": [
        {
          "output_type": "execute_result",
          "data": {
            "text/plain": [
              "Epoch Coffee                           400\n",
              "Halcyon                                300\n",
              "The Factory - Cafe With a Soul         244\n",
              "Houndstooth Coffee                     200\n",
              "Venezia Italian Gelato                 200\n",
              "Caffé Medici                           143\n",
              "Apanas Coffee & Beer                   136\n",
              "La Tazza Fresca                        100\n",
              "Radio Coffee & Beer                    100\n",
              "Cream Whiskers                         100\n",
              "Hot Mama’s Cafe                        100\n",
              "Dominican Joe                          100\n",
              "Kick Butt Coffee Music & Booze         100\n",
              "Figure 8 Coffee Purveyors              100\n",
              "Cenote                                 100\n",
              "Live Oak Market                        100\n",
              "Pacha                                  100\n",
              "Café Crème                             100\n",
              "Mozart’s Coffee Roasters               100\n",
              "Jo’s Coffee                            100\n",
              "Caffe Medici                           100\n",
              "Summer Moon Coffee Bar                 100\n",
              "Thunderbird Coffee                     100\n",
              "La Patisserie                          100\n",
              "Patika                                 100\n",
              "Quack’s 43rd Street Bakery             100\n",
              "Alta’s Cafe                            100\n",
              "Teo                                    100\n",
              "Cherrywood Coffeehouse                 100\n",
              "Once Over Coffee Bar                   100\n",
              "                                      ... \n",
              "Mary’s Cafe                            100\n",
              "Irie Bean Coffee Bar                   100\n",
              "Juan Pelota                            100\n",
              "The Steeping Room                      100\n",
              "The Hideout Coffeehouse                100\n",
              "Flightpath Coffeehouse                 100\n",
              "Stinson’s                              100\n",
              "Cuvée Coffee Bar                       100\n",
              "Arturo’s Underground Cafe              100\n",
              "Trianon Coffee                          98\n",
              "Fat Cats Organic Coffee And Dessert     94\n",
              "Emerald Tavern Games & Cafe             76\n",
              "Cafe Ruckus                             68\n",
              "Flat Track Coffee                       63\n",
              "Fleet Coffee                            57\n",
              "Third Coast Coffee Roasting Company     56\n",
              "Elixer Coffee                           52\n",
              "Brian’s Brew                            45\n",
              "Mañana Coffee & Juice                   33\n",
              "Tuscany At 360                          33\n",
              "My Sweet Austin                         31\n",
              "Holy Grounds                            30\n",
              "Friends & Neighbors                     29\n",
              "Legend Coffee                           28\n",
              "Flitch Coffee                           28\n",
              "Lucky Lab Coffee                        25\n",
              "Sister Coffee                           17\n",
              "Kowabunga Coffee                        16\n",
              "The Marvelous Vintage Tea Party Co.     10\n",
              "Lola Savannah Coffee Downtown            4\n",
              "Name: coffee_shop_name, Length: 79, dtype: int64"
            ]
          },
          "metadata": {
            "tags": []
          },
          "execution_count": 4
        }
      ]
    },
    {
      "cell_type": "code",
      "metadata": {
        "id": "c8bSGm3UnCHU",
        "colab_type": "code",
        "colab": {
          "base_uri": "https://localhost:8080/",
          "height": 222
        },
        "outputId": "5d9c19db-03ca-49b9-fccd-f4f34139dba6"
      },
      "source": [
        "df = df[df['coffee_shop_name'] == 'Strange Brew, Austin Coffee']\n",
        "print(df.shape)\n",
        "df.head()"
      ],
      "execution_count": 5,
      "outputs": [
        {
          "output_type": "stream",
          "text": [
            "(100, 5)\n"
          ],
          "name": "stdout"
        },
        {
          "output_type": "execute_result",
          "data": {
            "text/html": [
              "<div>\n",
              "<style scoped>\n",
              "    .dataframe tbody tr th:only-of-type {\n",
              "        vertical-align: middle;\n",
              "    }\n",
              "\n",
              "    .dataframe tbody tr th {\n",
              "        vertical-align: top;\n",
              "    }\n",
              "\n",
              "    .dataframe thead th {\n",
              "        text-align: right;\n",
              "    }\n",
              "</style>\n",
              "<table border=\"1\" class=\"dataframe\">\n",
              "  <thead>\n",
              "    <tr style=\"text-align: right;\">\n",
              "      <th></th>\n",
              "      <th>coffee_shop_name</th>\n",
              "      <th>full_review_text</th>\n",
              "      <th>star_rating</th>\n",
              "      <th>date</th>\n",
              "      <th>positive_review</th>\n",
              "    </tr>\n",
              "  </thead>\n",
              "  <tbody>\n",
              "    <tr>\n",
              "      <th>6372</th>\n",
              "      <td>Strange Brew, Austin Coffee</td>\n",
              "      <td>with great coffee drinks, google fiber interne...</td>\n",
              "      <td>4.0</td>\n",
              "      <td>2016-09-30</td>\n",
              "      <td>True</td>\n",
              "    </tr>\n",
              "    <tr>\n",
              "      <th>6373</th>\n",
              "      <td>Strange Brew, Austin Coffee</td>\n",
              "      <td>i've been here twice to work.  the coffee isn'...</td>\n",
              "      <td>2.0</td>\n",
              "      <td>2016-10-09</td>\n",
              "      <td>False</td>\n",
              "    </tr>\n",
              "    <tr>\n",
              "      <th>6374</th>\n",
              "      <td>Strange Brew, Austin Coffee</td>\n",
              "      <td>whether you're there to study, hang out, or li...</td>\n",
              "      <td>5.0</td>\n",
              "      <td>2016-07-26</td>\n",
              "      <td>True</td>\n",
              "    </tr>\n",
              "    <tr>\n",
              "      <th>6375</th>\n",
              "      <td>Strange Brew, Austin Coffee</td>\n",
              "      <td>one of the staff scolded and embarrassed this ...</td>\n",
              "      <td>1.0</td>\n",
              "      <td>2016-11-22</td>\n",
              "      <td>False</td>\n",
              "    </tr>\n",
              "    <tr>\n",
              "      <th>6376</th>\n",
              "      <td>Strange Brew, Austin Coffee</td>\n",
              "      <td>reviewing from the coffee house aspect... i ca...</td>\n",
              "      <td>2.0</td>\n",
              "      <td>2016-07-19</td>\n",
              "      <td>False</td>\n",
              "    </tr>\n",
              "  </tbody>\n",
              "</table>\n",
              "</div>"
            ],
            "text/plain": [
              "                 coffee_shop_name  ... positive_review\n",
              "6372  Strange Brew, Austin Coffee  ...            True\n",
              "6373  Strange Brew, Austin Coffee  ...           False\n",
              "6374  Strange Brew, Austin Coffee  ...            True\n",
              "6375  Strange Brew, Austin Coffee  ...           False\n",
              "6376  Strange Brew, Austin Coffee  ...           False\n",
              "\n",
              "[5 rows x 5 columns]"
            ]
          },
          "metadata": {
            "tags": []
          },
          "execution_count": 5
        }
      ]
    },
    {
      "cell_type": "code",
      "metadata": {
        "id": "odz6FeV5fjs7",
        "colab_type": "code",
        "colab": {
          "base_uri": "https://localhost:8080/",
          "height": 163
        },
        "outputId": "a2ac7482-2744-45aa-dce1-4847d3761237"
      },
      "source": [
        "!python -m spacy download en"
      ],
      "execution_count": 7,
      "outputs": [
        {
          "output_type": "stream",
          "text": [
            "Requirement already satisfied: en_core_web_sm==2.1.0 from https://github.com/explosion/spacy-models/releases/download/en_core_web_sm-2.1.0/en_core_web_sm-2.1.0.tar.gz#egg=en_core_web_sm==2.1.0 in /usr/local/lib/python3.6/dist-packages (2.1.0)\n",
            "\u001b[38;5;2m✔ Download and installation successful\u001b[0m\n",
            "You can now load the model via spacy.load('en_core_web_sm')\n",
            "\u001b[38;5;2m✔ Linking successful\u001b[0m\n",
            "/usr/local/lib/python3.6/dist-packages/en_core_web_sm -->\n",
            "/usr/local/lib/python3.6/dist-packages/spacy/data/en\n",
            "You can now load the model via spacy.load('en')\n"
          ],
          "name": "stdout"
        }
      ]
    },
    {
      "cell_type": "code",
      "metadata": {
        "id": "ZhdGxko_fyiR",
        "colab_type": "code",
        "colab": {
          "base_uri": "https://localhost:8080/",
          "height": 233
        },
        "outputId": "355e9310-7cfa-45a0-8fc0-07e9d157f3ab"
      },
      "source": [
        "!python -m spacy download en_core_web_lg"
      ],
      "execution_count": 8,
      "outputs": [
        {
          "output_type": "stream",
          "text": [
            "Collecting en_core_web_lg==2.1.0 from https://github.com/explosion/spacy-models/releases/download/en_core_web_lg-2.1.0/en_core_web_lg-2.1.0.tar.gz#egg=en_core_web_lg==2.1.0\n",
            "\u001b[?25l  Downloading https://github.com/explosion/spacy-models/releases/download/en_core_web_lg-2.1.0/en_core_web_lg-2.1.0.tar.gz (826.9MB)\n",
            "\u001b[K     |████████████████████████████████| 826.9MB 1.1MB/s \n",
            "\u001b[?25hBuilding wheels for collected packages: en-core-web-lg\n",
            "  Building wheel for en-core-web-lg (setup.py) ... \u001b[?25l\u001b[?25hdone\n",
            "  Created wheel for en-core-web-lg: filename=en_core_web_lg-2.1.0-cp36-none-any.whl size=828255076 sha256=0e507bd700e6e50e36cb5e35b51ff8bf53489c37b4f1973651fb0b124f0c95e0\n",
            "  Stored in directory: /tmp/pip-ephem-wheel-cache-sedkyhgy/wheels/b4/d7/70/426d313a459f82ed5e06cc36a50e2bb2f0ec5cb31d8e0bdf09\n",
            "Successfully built en-core-web-lg\n",
            "Installing collected packages: en-core-web-lg\n",
            "Successfully installed en-core-web-lg-2.1.0\n",
            "\u001b[38;5;2m✔ Download and installation successful\u001b[0m\n",
            "You can now load the model via spacy.load('en_core_web_lg')\n"
          ],
          "name": "stdout"
        }
      ]
    },
    {
      "cell_type": "code",
      "metadata": {
        "id": "GNkAL8g4f7FS",
        "colab_type": "code",
        "colab": {
          "base_uri": "https://localhost:8080/",
          "height": 91
        },
        "outputId": "74975487-7184-4655-e704-461c2c875a9c"
      },
      "source": [
        "!python -m spacy download en_core_web_sm"
      ],
      "execution_count": 9,
      "outputs": [
        {
          "output_type": "stream",
          "text": [
            "Requirement already satisfied: en_core_web_sm==2.1.0 from https://github.com/explosion/spacy-models/releases/download/en_core_web_sm-2.1.0/en_core_web_sm-2.1.0.tar.gz#egg=en_core_web_sm==2.1.0 in /usr/local/lib/python3.6/dist-packages (2.1.0)\n",
            "\u001b[38;5;2m✔ Download and installation successful\u001b[0m\n",
            "You can now load the model via spacy.load('en_core_web_sm')\n"
          ],
          "name": "stdout"
        }
      ]
    },
    {
      "cell_type": "code",
      "metadata": {
        "id": "6jfZUuG4ek2y",
        "colab_type": "code",
        "colab": {}
      },
      "source": [
        "import spacy\n",
        "nlp = spacy.load('en_core_web_lg')"
      ],
      "execution_count": 0,
      "outputs": []
    },
    {
      "cell_type": "code",
      "metadata": {
        "id": "lqJzvvb5ek0x",
        "colab_type": "code",
        "colab": {}
      },
      "source": [
        "def lemma(text):\n",
        "\n",
        "    lemmas = []\n",
        "    \n",
        "    STOPWORDS = nlp.Defaults.stop_words.union([' ', 'coffee', 'shop'])\n",
        "    \n",
        "    doc = nlp(text)\n",
        "    \n",
        "    # Something goes here :P\n",
        "    for token in doc: \n",
        "        if ((token.text not in STOPWORDS) and (token.is_punct == False)) and (token.pos_!= 'PRON'):\n",
        "            lemmas.append(token.lemma_)\n",
        "    \n",
        "    return lemmas"
      ],
      "execution_count": 0,
      "outputs": []
    },
    {
      "cell_type": "code",
      "metadata": {
        "id": "Ub6b7Mwfekvg",
        "colab_type": "code",
        "colab": {}
      },
      "source": [
        "df['tokens'] = df['full_review_text'].apply(lemma)"
      ],
      "execution_count": 0,
      "outputs": []
    },
    {
      "cell_type": "code",
      "metadata": {
        "id": "1jxVob0mdXhC",
        "colab_type": "code",
        "colab": {
          "base_uri": "https://localhost:8080/",
          "height": 204
        },
        "outputId": "7071de4d-f240-467f-b1ef-0cbff1006410"
      },
      "source": [
        "df.head()"
      ],
      "execution_count": 10,
      "outputs": [
        {
          "output_type": "execute_result",
          "data": {
            "text/html": [
              "<div>\n",
              "<style scoped>\n",
              "    .dataframe tbody tr th:only-of-type {\n",
              "        vertical-align: middle;\n",
              "    }\n",
              "\n",
              "    .dataframe tbody tr th {\n",
              "        vertical-align: top;\n",
              "    }\n",
              "\n",
              "    .dataframe thead th {\n",
              "        text-align: right;\n",
              "    }\n",
              "</style>\n",
              "<table border=\"1\" class=\"dataframe\">\n",
              "  <thead>\n",
              "    <tr style=\"text-align: right;\">\n",
              "      <th></th>\n",
              "      <th>coffee_shop_name</th>\n",
              "      <th>full_review_text</th>\n",
              "      <th>star_rating</th>\n",
              "      <th>date</th>\n",
              "      <th>positive_review</th>\n",
              "      <th>tokens</th>\n",
              "    </tr>\n",
              "  </thead>\n",
              "  <tbody>\n",
              "    <tr>\n",
              "      <th>6372</th>\n",
              "      <td>Strange Brew, Austin Coffee</td>\n",
              "      <td>with great coffee drinks, google fiber interne...</td>\n",
              "      <td>4.0</td>\n",
              "      <td>2016-09-30</td>\n",
              "      <td>True</td>\n",
              "      <td>[great, drink, google, fiber, internet, plenty...</td>\n",
              "    </tr>\n",
              "    <tr>\n",
              "      <th>6373</th>\n",
              "      <td>Strange Brew, Austin Coffee</td>\n",
              "      <td>i've been here twice to work.  the coffee isn'...</td>\n",
              "      <td>2.0</td>\n",
              "      <td>2016-10-09</td>\n",
              "      <td>False</td>\n",
              "      <td>[twice, work, bad, plenty, parking, table, wor...</td>\n",
              "    </tr>\n",
              "    <tr>\n",
              "      <th>6374</th>\n",
              "      <td>Strange Brew, Austin Coffee</td>\n",
              "      <td>whether you're there to study, hang out, or li...</td>\n",
              "      <td>5.0</td>\n",
              "      <td>2016-07-26</td>\n",
              "      <td>True</td>\n",
              "      <td>[study, hang, listen, live, music, cover, good...</td>\n",
              "    </tr>\n",
              "    <tr>\n",
              "      <th>6375</th>\n",
              "      <td>Strange Brew, Austin Coffee</td>\n",
              "      <td>one of the staff scolded and embarrassed this ...</td>\n",
              "      <td>1.0</td>\n",
              "      <td>2016-11-22</td>\n",
              "      <td>False</td>\n",
              "      <td>[staff, scold, embarrass, guy, sit, lounge, ch...</td>\n",
              "    </tr>\n",
              "    <tr>\n",
              "      <th>6376</th>\n",
              "      <td>Strange Brew, Austin Coffee</td>\n",
              "      <td>reviewing from the coffee house aspect... i ca...</td>\n",
              "      <td>2.0</td>\n",
              "      <td>2016-07-19</td>\n",
              "      <td>False</td>\n",
              "      <td>[review, house, aspect, come, work, dog, get, ...</td>\n",
              "    </tr>\n",
              "  </tbody>\n",
              "</table>\n",
              "</div>"
            ],
            "text/plain": [
              "                 coffee_shop_name  ...                                             tokens\n",
              "6372  Strange Brew, Austin Coffee  ...  [great, drink, google, fiber, internet, plenty...\n",
              "6373  Strange Brew, Austin Coffee  ...  [twice, work, bad, plenty, parking, table, wor...\n",
              "6374  Strange Brew, Austin Coffee  ...  [study, hang, listen, live, music, cover, good...\n",
              "6375  Strange Brew, Austin Coffee  ...  [staff, scold, embarrass, guy, sit, lounge, ch...\n",
              "6376  Strange Brew, Austin Coffee  ...  [review, house, aspect, come, work, dog, get, ...\n",
              "\n",
              "[5 rows x 6 columns]"
            ]
          },
          "metadata": {
            "tags": []
          },
          "execution_count": 10
        }
      ]
    },
    {
      "cell_type": "markdown",
      "metadata": {
        "id": "BjrwT92sSW1b",
        "colab_type": "text"
      },
      "source": [
        "## How do we want to analyze these coffee shop tokens? \n",
        "\n",
        "- Overall Word / Token Count\n",
        "- View Counts by Rating \n",
        "- *Hint:* a 'bad' coffee shops has a rating betweeen 1 & 3 based on the distribution of ratings. A 'good' coffee shop is a 4 or 5. "
      ]
    },
    {
      "cell_type": "code",
      "metadata": {
        "id": "WSarYKyQSW1b",
        "colab_type": "code",
        "colab": {}
      },
      "source": [
        "# From lecture note copy&paste\n",
        "\n",
        "from collections import Counter\n",
        "\n",
        "def count(docs):\n",
        "\n",
        "        word_counts = Counter()\n",
        "        appears_in = Counter()\n",
        "        \n",
        "        total_docs = len(docs)\n",
        "\n",
        "        for doc in docs:\n",
        "            word_counts.update(doc)\n",
        "            appears_in.update(set(doc))\n",
        "\n",
        "        temp = zip(word_counts.keys(), word_counts.values())\n",
        "        \n",
        "        wc = pd.DataFrame(temp, columns = ['word', 'count'])\n",
        "\n",
        "        wc['rank'] = wc['count'].rank(method='first', ascending=False)\n",
        "        total = wc['count'].sum()\n",
        "\n",
        "        wc['pct_total'] = wc['count'].apply(lambda x: x / total)\n",
        "        \n",
        "        wc = wc.sort_values(by='rank')\n",
        "        wc['cul_pct_total'] = wc['pct_total'].cumsum()\n",
        "\n",
        "        t2 = zip(appears_in.keys(), appears_in.values())\n",
        "        ac = pd.DataFrame(t2, columns=['word', 'appears_in'])\n",
        "        wc = ac.merge(wc, on='word')\n",
        "\n",
        "        wc['appears_in_pct'] = wc['appears_in'].apply(lambda x: x / total_docs)\n",
        "        \n",
        "        return wc.sort_values(by='rank')"
      ],
      "execution_count": 0,
      "outputs": []
    },
    {
      "cell_type": "code",
      "metadata": {
        "id": "4GlE4m3fd00W",
        "colab_type": "code",
        "colab": {}
      },
      "source": [
        "wc = count(df['tokens'])"
      ],
      "execution_count": 0,
      "outputs": []
    },
    {
      "cell_type": "code",
      "metadata": {
        "id": "91zg3uFHd0yH",
        "colab_type": "code",
        "colab": {
          "base_uri": "https://localhost:8080/",
          "height": 204
        },
        "outputId": "289cb45a-1572-4b39-d426-6781b56e0b25"
      },
      "source": [
        "wc.head()"
      ],
      "execution_count": 16,
      "outputs": [
        {
          "output_type": "execute_result",
          "data": {
            "text/html": [
              "<div>\n",
              "<style scoped>\n",
              "    .dataframe tbody tr th:only-of-type {\n",
              "        vertical-align: middle;\n",
              "    }\n",
              "\n",
              "    .dataframe tbody tr th {\n",
              "        vertical-align: top;\n",
              "    }\n",
              "\n",
              "    .dataframe thead th {\n",
              "        text-align: right;\n",
              "    }\n",
              "</style>\n",
              "<table border=\"1\" class=\"dataframe\">\n",
              "  <thead>\n",
              "    <tr style=\"text-align: right;\">\n",
              "      <th></th>\n",
              "      <th>word</th>\n",
              "      <th>appears_in</th>\n",
              "      <th>count</th>\n",
              "      <th>rank</th>\n",
              "      <th>pct_total</th>\n",
              "      <th>cul_pct_total</th>\n",
              "      <th>appears_in_pct</th>\n",
              "    </tr>\n",
              "  </thead>\n",
              "  <tbody>\n",
              "    <tr>\n",
              "      <th>26</th>\n",
              "      <td>place</td>\n",
              "      <td>58</td>\n",
              "      <td>92</td>\n",
              "      <td>1.0</td>\n",
              "      <td>0.017944</td>\n",
              "      <td>0.017944</td>\n",
              "      <td>0.58</td>\n",
              "    </tr>\n",
              "    <tr>\n",
              "      <th>28</th>\n",
              "      <td>good</td>\n",
              "      <td>41</td>\n",
              "      <td>69</td>\n",
              "      <td>2.0</td>\n",
              "      <td>0.013458</td>\n",
              "      <td>0.031402</td>\n",
              "      <td>0.41</td>\n",
              "    </tr>\n",
              "    <tr>\n",
              "      <th>78</th>\n",
              "      <td>music</td>\n",
              "      <td>37</td>\n",
              "      <td>68</td>\n",
              "      <td>3.0</td>\n",
              "      <td>0.013263</td>\n",
              "      <td>0.044665</td>\n",
              "      <td>0.37</td>\n",
              "    </tr>\n",
              "    <tr>\n",
              "      <th>92</th>\n",
              "      <td>brew</td>\n",
              "      <td>38</td>\n",
              "      <td>66</td>\n",
              "      <td>4.0</td>\n",
              "      <td>0.012873</td>\n",
              "      <td>0.057539</td>\n",
              "      <td>0.38</td>\n",
              "    </tr>\n",
              "    <tr>\n",
              "      <th>95</th>\n",
              "      <td>strange</td>\n",
              "      <td>34</td>\n",
              "      <td>60</td>\n",
              "      <td>5.0</td>\n",
              "      <td>0.011703</td>\n",
              "      <td>0.069241</td>\n",
              "      <td>0.34</td>\n",
              "    </tr>\n",
              "  </tbody>\n",
              "</table>\n",
              "</div>"
            ],
            "text/plain": [
              "       word  appears_in  count  rank  pct_total  cul_pct_total  appears_in_pct\n",
              "26    place          58     92   1.0   0.017944       0.017944            0.58\n",
              "28     good          41     69   2.0   0.013458       0.031402            0.41\n",
              "78    music          37     68   3.0   0.013263       0.044665            0.37\n",
              "92     brew          38     66   4.0   0.012873       0.057539            0.38\n",
              "95  strange          34     60   5.0   0.011703       0.069241            0.34"
            ]
          },
          "metadata": {
            "tags": []
          },
          "execution_count": 16
        }
      ]
    },
    {
      "cell_type": "code",
      "metadata": {
        "id": "mohQcmpQd0t7",
        "colab_type": "code",
        "colab": {
          "base_uri": "https://localhost:8080/",
          "height": 197
        },
        "outputId": "27e08b17-a7d9-4511-d648-d08ceb3a6e6a"
      },
      "source": [
        "word_counts = Counter()\n",
        "\n",
        "df['tokens'].apply(lambda x: word_counts.update(x))\n",
        "\n",
        "word_counts.most_common(10)"
      ],
      "execution_count": 19,
      "outputs": [
        {
          "output_type": "execute_result",
          "data": {
            "text/plain": [
              "[('place', 92),\n",
              " ('good', 69),\n",
              " ('music', 68),\n",
              " ('brew', 66),\n",
              " ('strange', 60),\n",
              " ('like', 58),\n",
              " ('great', 52),\n",
              " ('room', 52),\n",
              " ('study', 51),\n",
              " ('time', 51)]"
            ]
          },
          "metadata": {
            "tags": []
          },
          "execution_count": 19
        }
      ]
    },
    {
      "cell_type": "markdown",
      "metadata": {
        "id": "FwLK661Ng7eY",
        "colab_type": "text"
      },
      "source": [
        "**View Counts by Rating**"
      ]
    },
    {
      "cell_type": "code",
      "metadata": {
        "id": "OBhGcx3vhAmL",
        "colab_type": "code",
        "colab": {}
      },
      "source": [
        "bad_reviews = df[df['star_rating'] <= 3.0]\n",
        "bad_wc = count(bad_reviews['tokens'])\n",
        "\n",
        "good_reviews = df[df['star_rating'] >= 4.0]\n",
        "good_wc = count(good_reviews['tokens'])"
      ],
      "execution_count": 0,
      "outputs": []
    },
    {
      "cell_type": "code",
      "metadata": {
        "id": "5_v__eQWhZlk",
        "colab_type": "code",
        "colab": {
          "base_uri": "https://localhost:8080/",
          "height": 269
        },
        "outputId": "0d360156-d05b-4fe2-efe9-29073ba29813"
      },
      "source": [
        "bad_reviews.head(), bad_wc.head()"
      ],
      "execution_count": 27,
      "outputs": [
        {
          "output_type": "execute_result",
          "data": {
            "text/plain": [
              "(                 coffee_shop_name  ...                                             tokens\n",
              " 6373  Strange Brew, Austin Coffee  ...  [twice, work, bad, plenty, parking, table, wor...\n",
              " 6375  Strange Brew, Austin Coffee  ...  [staff, scold, embarrass, guy, sit, lounge, ch...\n",
              " 6376  Strange Brew, Austin Coffee  ...  [review, house, aspect, come, work, dog, get, ...\n",
              " 6377  Strange Brew, Austin Coffee  ...  [check, yelp, get, discount, score, bargain, l...\n",
              " 6378  Strange Brew, Austin Coffee  ...  [decent, easy, lay, atmosphere, drop, pen, flo...\n",
              " \n",
              " [5 rows x 6 columns],\n",
              "      word  appears_in  count  rank  pct_total  cul_pct_total  appears_in_pct\n",
              " 80  place          24     38   1.0   0.018528       0.018528           0.600\n",
              " 46   time          16     27   2.0   0.013164       0.031692           0.400\n",
              " 24   work          15     25   3.0   0.012189       0.043881           0.375\n",
              " 17   like          13     25   4.0   0.012189       0.056070           0.325\n",
              " 91   come          13     21   5.0   0.010239       0.066309           0.325)"
            ]
          },
          "metadata": {
            "tags": []
          },
          "execution_count": 27
        }
      ]
    },
    {
      "cell_type": "code",
      "metadata": {
        "id": "aWGm9Bs3hkXx",
        "colab_type": "code",
        "colab": {
          "base_uri": "https://localhost:8080/",
          "height": 269
        },
        "outputId": "b8dad3b3-482b-4428-c256-9566a0890c28"
      },
      "source": [
        "good_reviews.head(), good_wc.head()"
      ],
      "execution_count": 28,
      "outputs": [
        {
          "output_type": "execute_result",
          "data": {
            "text/plain": [
              "(                 coffee_shop_name  ...                                             tokens\n",
              " 6372  Strange Brew, Austin Coffee  ...  [great, drink, google, fiber, internet, plenty...\n",
              " 6374  Strange Brew, Austin Coffee  ...  [study, hang, listen, live, music, cover, good...\n",
              " 6379  Strange Brew, Austin Coffee  ...  [s, friend, kendall, cake, maker, order, good,...\n",
              " 6380  Strange Brew, Austin Coffee  ...  [place, expand, great, local, establishment, g...\n",
              " 6384  Strange Brew, Austin Coffee  ...  [true, hole, wall, ton, space, outlet, friendl...\n",
              " \n",
              " [5 rows x 6 columns],\n",
              "         word  appears_in  count  rank  pct_total  cul_pct_total  appears_in_pct\n",
              " 26     place          34     54   1.0   0.017555       0.017555        0.566667\n",
              " 28      good          29     52   2.0   0.016905       0.034460        0.483333\n",
              " 102     brew          29     51   3.0   0.016580       0.051040        0.483333\n",
              " 43     music          28     50   4.0   0.016255       0.067295        0.466667\n",
              " 106  strange          25     44   5.0   0.014304       0.081599        0.416667)"
            ]
          },
          "metadata": {
            "tags": []
          },
          "execution_count": 28
        }
      ]
    },
    {
      "cell_type": "markdown",
      "metadata": {
        "id": "SARRj3uoSW1d",
        "colab_type": "text"
      },
      "source": [
        "## Can visualize the words with the greatest difference in counts between 'good' & 'bad'?\n",
        "\n",
        "Couple Notes: \n",
        "- Rel. freq. instead of absolute counts b/c of different numbers of reviews\n",
        "- Only look at the top 5-10 words with the greatest differences\n"
      ]
    },
    {
      "cell_type": "code",
      "metadata": {
        "id": "12r89vM7gNBQ",
        "colab_type": "code",
        "colab": {
          "base_uri": "https://localhost:8080/",
          "height": 269
        },
        "outputId": "4b86b0a9-ad51-4d87-bebb-804d91019cbb"
      },
      "source": [
        "wc_top20 = bad_wc[bad_wc['rank'] <= 20]\n",
        "\n",
        "squarify.plot(sizes=wc_top20['pct_total'], label=wc_top20['word'], alpha=.8 )\n",
        "plt.axis('off')\n",
        "plt.show()"
      ],
      "execution_count": 29,
      "outputs": [
        {
          "output_type": "display_data",
          "data": {
            "image/png": "[encoded data removed]",
            "text/plain": [
              "<Figure size 432x288 with 1 Axes>"
            ]
          },
          "metadata": {
            "tags": []
          }
        }
      ]
    },
    {
      "cell_type": "code",
      "metadata": {
        "id": "aXu9JnB_SW1e",
        "colab_type": "code",
        "colab": {
          "base_uri": "https://localhost:8080/",
          "height": 269
        },
        "outputId": "4ac07949-21c5-4bd5-e83a-75c09d29f119"
      },
      "source": [
        "wc_top20 = good_wc[good_wc['rank'] <= 20]\n",
        "\n",
        "squarify.plot(sizes=wc_top20['pct_total'], label=wc_top20['word'], alpha=.8 )\n",
        "plt.axis('off')\n",
        "plt.show()"
      ],
      "execution_count": 30,
      "outputs": [
        {
          "output_type": "display_data",
          "data": {
            "image/png": "[encoded data removed]",
            "text/plain": [
              "<Figure size 432x288 with 1 Axes>"
            ]
          },
          "metadata": {
            "tags": []
          }
        }
      ]
    },
    {
      "cell_type": "markdown",
      "metadata": {
        "colab_type": "text",
        "id": "1dCb1q8XphcP",
        "toc-hr-collapsed": true
      },
      "source": [
        "## Stretch Goals\n",
        "\n",
        "* Analyze another corpus of documents - such as Indeed.com job listings ;).\n",
        "* Play the the Spacy API to\n",
        " - Extract Named Entities\n",
        " - Extracting 'noun chunks'\n",
        " - Attempt Document Classification with just Spacy\n",
        " - *Note:* This [course](https://course.spacy.io/) will be of interesting in helping you with these stretch goals. \n",
        "* Try to build a plotly dash app with your text data \n",
        "\n"
      ]
    }
  ]
}